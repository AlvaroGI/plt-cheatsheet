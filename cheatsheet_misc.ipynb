{
 "cells": [
  {
   "cell_type": "markdown",
   "metadata": {},
   "source": [
    "# Python cheat sheet"
   ]
  },
  {
   "cell_type": "markdown",
   "metadata": {},
   "source": [
    "### Index:\n",
    "\n",
    " - [Basic modules](#Basic-modules)\n",
    " \n",
    " \n",
    " - Printing:\n",
    "     - [Print variable value with string formatting](#Print-variable-value-with-string-formatting)\n",
    "     - [Overwrite printed text](#Overwrite-printed-text) \n",
    " \n",
    " \n",
    " - [Progress bars](#Progress-bars)\n",
    "     \n",
    "     \n",
    " - Jupyter Notebook tricks:\n",
    "     - [Reload module from code](#Reload-module-from-code)\n",
    "     - [Markdown tricks](#Markdown-tricks)\n",
    " \n",
    " \n",
    " \n",
    "For tips and tricks on plots, see the [Scientific plots cheat sheet](https://nbviewer.jupyter.org/github/AlvaroGI/python_cheatsheet/blob/main/cheatsheet_plt.ipynb \"See cheatsheet_plt.ipynb\")."
   ]
  },
  {
   "cell_type": "markdown",
   "metadata": {},
   "source": [
    "---\n",
    "\n",
    "<br />\n",
    "&nbsp;\n",
    "\n",
    "## Basic modules"
   ]
  },
  {
   "cell_type": "markdown",
   "metadata": {},
   "source": [
    "These are some modules I generally find useful:"
   ]
  },
  {
   "cell_type": "code",
   "execution_count": 1,
   "metadata": {},
   "outputs": [],
   "source": [
    "import numpy as np\n",
    "import matplotlib.pyplot as plt\n",
    "import json\n",
    "import copy\n",
    "import warnings\n",
    "import scipy\n",
    "import random\n",
    "\n",
    "# To reload modules from a cell (no need to restart kernel)\n",
    "import importlib as imp\n",
    "\n",
    "# For loading bars (remove '.notebook' if used from \n",
    "# terminal instead of notebook)\n",
    "from tqdm.notebook import tqdm\n",
    "\n",
    "# For LaTeX expressions in plots\n",
    "from matplotlib import rc\n",
    "rc('text', usetex=True)\n",
    "\n",
    "# For the Jupyter Notebook to store all figures in the .ipynb file\n",
    "%matplotlib inline"
   ]
  },
  {
   "cell_type": "markdown",
   "metadata": {},
   "source": [
    "---\n",
    "\n",
    "<br />\n",
    "&nbsp;\n",
    "\n",
    "## Print variable value with string formatting"
   ]
  },
  {
   "cell_type": "markdown",
   "metadata": {},
   "source": [
    "A useful way of printing the value of a variable is using string formatting:"
   ]
  },
  {
   "cell_type": "code",
   "execution_count": 2,
   "metadata": {},
   "outputs": [
    {
     "name": "stdout",
     "output_type": "stream",
     "text": [
      "2\n"
     ]
    }
   ],
   "source": [
    "my_var = 2\n",
    "my_str = '%d' % my_var\n",
    "\n",
    "print(my_str)"
   ]
  },
  {
   "cell_type": "markdown",
   "metadata": {},
   "source": [
    "The previous syntax transforms the value of the (integer) variable `my_var` into a string. The string can contain additional characters and can retrieve the value of several variables simultaneously:"
   ]
  },
  {
   "cell_type": "code",
   "execution_count": 3,
   "metadata": {},
   "outputs": [
    {
     "name": "stdout",
     "output_type": "stream",
     "text": [
      "var1 = 2, var2 = 100\n"
     ]
    }
   ],
   "source": [
    "var1 = 2\n",
    "var2 = 100\n",
    "my_str = 'var1 = %d, var2 = %d' % (var1, var2)\n",
    "\n",
    "print(my_str)"
   ]
  },
  {
   "cell_type": "markdown",
   "metadata": {},
   "source": [
    "Depending on the output desired, we must specify a different conversion type (the letter behind the `%`), for example:\n",
    " \n",
    " - Integer: `%d`. Only outputs the integer part of the variable.\n",
    " \n",
    " \n",
    " - Float: `%f`. Outputs the variable value as a float. Use `%.Xf` to output only `X` decimal figures (replace `X` by an integer; by default, `X=6`).\n",
    " \n",
    " \n",
    " - String: `%s`. Outputs the raw variable value."
   ]
  },
  {
   "cell_type": "code",
   "execution_count": 4,
   "metadata": {},
   "outputs": [
    {
     "name": "stdout",
     "output_type": "stream",
     "text": [
      "3\n",
      "3.14\n",
      "3.141593\n",
      "3.141592653589793\n",
      "The value of pi (3.14159...) is approximately 1\n"
     ]
    }
   ],
   "source": [
    "var1 = np.pi\n",
    "var2 = 1\n",
    "\n",
    "print('%d' % var1)\n",
    "\n",
    "print('%.2f' % var1)\n",
    "\n",
    "print('%f' % var1)\n",
    "\n",
    "print('%s' % var1)\n",
    "\n",
    "print('The value of pi (%.5f...) is approximately %d' % (var1,var2))"
   ]
  },
  {
   "cell_type": "markdown",
   "metadata": {},
   "source": [
    "For further details, see [this reference](https://python-reference.readthedocs.io/en/latest/docs/str/formatting.html)."
   ]
  },
  {
   "cell_type": "markdown",
   "metadata": {},
   "source": [
    "---\n",
    "\n",
    "<br />\n",
    "&nbsp;\n",
    "\n",
    "## Overwrite printed text"
   ]
  },
  {
   "cell_type": "markdown",
   "metadata": {},
   "source": [
    "To overwrite printed text, set the `end` argument to `'\\r'`. This places the cursor at the beginning of the previous line instead of creating a new one (by default, `end='\\n'`, which places the cursor at the beginning of a new line).\n",
    "\n",
    "See the following two examples:"
   ]
  },
  {
   "cell_type": "code",
   "execution_count": 5,
   "metadata": {},
   "outputs": [
    {
     "name": "stdout",
     "output_type": "stream",
     "text": [
      "9\r"
     ]
    }
   ],
   "source": [
    "import time\n",
    "\n",
    "for x in range(10):\n",
    "    print(x, end='\\r')\n",
    "    time.sleep(0.5)"
   ]
  },
  {
   "cell_type": "code",
   "execution_count": 6,
   "metadata": {},
   "outputs": [
    {
     "name": "stdout",
     "output_type": "stream",
     "text": [
      "Loading.     \r"
     ]
    }
   ],
   "source": [
    "for x in range(30):\n",
    "    dots='.'*(x%4)\n",
    "    print('Loading'+dots+'   ', end='\\r')\n",
    "    time.sleep(0.5)"
   ]
  },
  {
   "cell_type": "markdown",
   "metadata": {},
   "source": [
    "<br />\n",
    "&nbsp;\n",
    "\n",
    "This trick can be useful to create checkpoints for debugging. The following piece of code updates the printed text each time the code reaches a checkpoint."
   ]
  },
  {
   "cell_type": "code",
   "execution_count": 7,
   "metadata": {},
   "outputs": [
    {
     "name": "stdout",
     "output_type": "stream",
     "text": [
      "End of code\r"
     ]
    }
   ],
   "source": [
    "if True:\n",
    "    # [Part 1 of the code here]\n",
    "    time.sleep(1)\n",
    "\n",
    "print('Reached CP1', end='\\r')\n",
    "\n",
    "if True:\n",
    "    # [Part 2 of the code here]\n",
    "    time.sleep(1)\n",
    "print('Reached CP2', end='\\r')\n",
    "\n",
    "if True:\n",
    "    # [Part 3 of the code here]\n",
    "    time.sleep(1)\n",
    "print('End of code', end='\\r')"
   ]
  },
  {
   "cell_type": "markdown",
   "metadata": {},
   "source": [
    "---\n",
    "\n",
    "<br />\n",
    "&nbsp;\n",
    "\n",
    "## Progress bars"
   ]
  },
  {
   "cell_type": "markdown",
   "metadata": {},
   "source": [
    "To generate a progress bars, simply wrap your iterable in `tqdm()`:"
   ]
  },
  {
   "cell_type": "code",
   "execution_count": 8,
   "metadata": {
    "scrolled": false
   },
   "outputs": [
    {
     "data": {
      "application/vnd.jupyter.widget-view+json": {
       "model_id": "64e06a02f6044995ae4577b44f06d577",
       "version_major": 2,
       "version_minor": 0
      },
      "text/plain": [
       "My first progress bar:   0%|          | 0/50 [00:00<?, ?it/s]"
      ]
     },
     "metadata": {},
     "output_type": "display_data"
    }
   ],
   "source": [
    "from tqdm.notebook import tqdm # Remove '.notebook' if used from \n",
    "                               # terminal instead of notebook\n",
    "import time\n",
    "\n",
    "for i in tqdm(range(0,50), 'My first progress bar'):\n",
    "    time.sleep(0.1)"
   ]
  },
  {
   "cell_type": "markdown",
   "metadata": {},
   "source": [
    "<br />\n",
    "&nbsp;\n",
    "\n",
    "When using nested progress bars, it can be useful to erase old lower-level bars by setting the argument `leave` as `False`."
   ]
  },
  {
   "cell_type": "code",
   "execution_count": 9,
   "metadata": {
    "scrolled": false
   },
   "outputs": [
    {
     "data": {
      "application/vnd.jupyter.widget-view+json": {
       "model_id": "b9b1282539ab49f480e4db86d9444435",
       "version_major": 2,
       "version_minor": 0
      },
      "text/plain": [
       "Top-level progress bar:   0%|          | 0/5 [00:00<?, ?it/s]"
      ]
     },
     "metadata": {},
     "output_type": "display_data"
    },
    {
     "data": {
      "application/vnd.jupyter.widget-view+json": {
       "model_id": "",
       "version_major": 2,
       "version_minor": 0
      },
      "text/plain": [
       "Bottom-level progress bar:   0%|          | 0/20 [00:00<?, ?it/s]"
      ]
     },
     "metadata": {},
     "output_type": "display_data"
    },
    {
     "data": {
      "application/vnd.jupyter.widget-view+json": {
       "model_id": "",
       "version_major": 2,
       "version_minor": 0
      },
      "text/plain": [
       "Bottom-level progress bar:   0%|          | 0/20 [00:00<?, ?it/s]"
      ]
     },
     "metadata": {},
     "output_type": "display_data"
    },
    {
     "data": {
      "application/vnd.jupyter.widget-view+json": {
       "model_id": "",
       "version_major": 2,
       "version_minor": 0
      },
      "text/plain": [
       "Bottom-level progress bar:   0%|          | 0/20 [00:00<?, ?it/s]"
      ]
     },
     "metadata": {},
     "output_type": "display_data"
    },
    {
     "data": {
      "application/vnd.jupyter.widget-view+json": {
       "model_id": "",
       "version_major": 2,
       "version_minor": 0
      },
      "text/plain": [
       "Bottom-level progress bar:   0%|          | 0/20 [00:00<?, ?it/s]"
      ]
     },
     "metadata": {},
     "output_type": "display_data"
    },
    {
     "data": {
      "application/vnd.jupyter.widget-view+json": {
       "model_id": "",
       "version_major": 2,
       "version_minor": 0
      },
      "text/plain": [
       "Bottom-level progress bar:   0%|          | 0/20 [00:00<?, ?it/s]"
      ]
     },
     "metadata": {},
     "output_type": "display_data"
    }
   ],
   "source": [
    "for i in tqdm(range(0,5), 'Top-level progress bar'):\n",
    "    for i in tqdm(range(0,20), 'Bottom-level progress bar', leave=False):\n",
    "        time.sleep(0.1)"
   ]
  },
  {
   "cell_type": "markdown",
   "metadata": {},
   "source": [
    "---\n",
    "\n",
    "<br />\n",
    "&nbsp;\n",
    "\n",
    "## Reload module from code"
   ]
  },
  {
   "cell_type": "markdown",
   "metadata": {},
   "source": [
    "It is possible to reload a module from the code without the need to restart the kernel of the Jupyter Notebook. This is useful when a module is updated during the execution of the notebook (e.g., when we are testing our own functions imported from a different file)."
   ]
  },
  {
   "cell_type": "code",
   "execution_count": 10,
   "metadata": {
    "scrolled": true
   },
   "outputs": [
    {
     "data": {
      "text/plain": [
       "<module 'random' from '/Users/alvarogomezinesta/opt/anaconda3/lib/python3.8/random.py'>"
      ]
     },
     "execution_count": 10,
     "metadata": {},
     "output_type": "execute_result"
    }
   ],
   "source": [
    "import importlib as imp\n",
    "\n",
    "# Reload numpy:\n",
    "imp.reload(np)\n",
    "\n",
    "# Reload random:\n",
    "imp.reload(random)"
   ]
  },
  {
   "cell_type": "markdown",
   "metadata": {},
   "source": [
    "---\n",
    "\n",
    "<br />\n",
    "&nbsp;\n",
    "\n",
    "\n",
    "## Markdown tricks"
   ]
  },
  {
   "cell_type": "markdown",
   "metadata": {},
   "source": [
    "For a general guide on Markdown, see [this](https://github.com/adam-p/markdown-here/wiki/Markdown-Cheatsheet \"Open Markdown guide\")."
   ]
  },
  {
   "cell_type": "markdown",
   "metadata": {},
   "source": [
    "#### Vertical blank spaces:\n",
    "```\n",
    "<br />\n",
    "&nbsp;\n",
    "```"
   ]
  },
  {
   "cell_type": "markdown",
   "metadata": {},
   "source": [
    "#### Inline code:\n",
    "\\`hello_world()\\` renders as `hello_world()`"
   ]
  },
  {
   "cell_type": "markdown",
   "metadata": {},
   "source": [
    "#### Centered code:\n",
    "Wrap your code in triple backticks to center it. For example,\n",
    "\n",
    "<br />\n",
    "&nbsp;\n",
    "\n",
    "````\n",
    "```\n",
    "hello_world()\n",
    "hello_again()\n",
    "```\n",
    "````\n",
    "\n",
    "renders as\n",
    "\n",
    "```\n",
    "hello_world()\n",
    "hello_again()\n",
    "```\n",
    "\n",
    "<br />\n",
    "&nbsp;\n",
    "\n",
    "and\n",
    "\n",
    "````\n",
    "```python\n",
    "for i in range(0,N):\n",
    "print(i)\n",
    "```\n",
    "````\n",
    "\n",
    "renders as\n",
    "\n",
    "```python\n",
    "for i in range(0,N):\n",
    "    print(i)\n",
    "```"
   ]
  },
  {
   "cell_type": "markdown",
   "metadata": {},
   "source": [
    "<br />\n",
    "&nbsp;\n",
    "<br />\n",
    "&nbsp;\n",
    "<br />\n",
    "&nbsp;\n",
    "<br />\n",
    "&nbsp;"
   ]
  },
  {
   "cell_type": "markdown",
   "metadata": {},
   "source": [
    "<span style=\"color:blue\">Álvaro Gómez Iñesta - Wehner's Group @ QuTech, TU Delft. February 2021.</span>"
   ]
  }
 ],
 "metadata": {
  "kernelspec": {
   "display_name": "Python 3",
   "language": "python",
   "name": "python3"
  },
  "language_info": {
   "codemirror_mode": {
    "name": "ipython",
    "version": 3
   },
   "file_extension": ".py",
   "mimetype": "text/x-python",
   "name": "python",
   "nbconvert_exporter": "python",
   "pygments_lexer": "ipython3",
   "version": "3.8.8"
  }
 },
 "nbformat": 4,
 "nbformat_minor": 4
}
