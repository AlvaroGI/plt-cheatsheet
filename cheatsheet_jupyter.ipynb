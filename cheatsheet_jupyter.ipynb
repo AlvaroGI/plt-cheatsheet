{
 "cells": [
  {
   "cell_type": "markdown",
   "metadata": {},
   "source": [
    "# Jupyter Notebook cheat sheet"
   ]
  },
  {
   "cell_type": "markdown",
   "metadata": {},
   "source": [
    "## Basic modules to import"
   ]
  },
  {
   "cell_type": "markdown",
   "metadata": {},
   "source": [
    "These are some modules I generally find useful:"
   ]
  },
  {
   "cell_type": "code",
   "execution_count": 1,
   "metadata": {},
   "outputs": [],
   "source": [
    "import numpy as np\n",
    "import matplotlib.pyplot as plt\n",
    "import json\n",
    "import copy\n",
    "import warnings\n",
    "import scipy\n",
    "import random\n",
    "\n",
    "# To reload modules from a cell (no need to restart kernel)\n",
    "import importlib as imp\n",
    "\n",
    "# For loading bars (remove '.notebook' if used from \n",
    "# terminal instead of notebook)\n",
    "from tqdm.notebook import tqdm\n",
    "\n",
    "# For LaTeX expressions in plots\n",
    "from matplotlib import rc\n",
    "rc('text', usetex=True)\n",
    "\n",
    "# For the notebook to save all figures in the .ipynb file\n",
    "%matplotlib inline"
   ]
  },
  {
   "cell_type": "markdown",
   "metadata": {},
   "source": [
    "<br />\n",
    "&nbsp;\n",
    "<br />\n",
    "&nbsp;\n",
    "\n",
    "## Notebook tricks"
   ]
  },
  {
   "cell_type": "markdown",
   "metadata": {},
   "source": [
    "### Reload modules from cell (no need to restart kernel)"
   ]
  },
  {
   "cell_type": "code",
   "execution_count": 2,
   "metadata": {
    "scrolled": true
   },
   "outputs": [
    {
     "data": {
      "text/plain": [
       "<module 'random' from '/Library/Frameworks/Python.framework/Versions/3.7/lib/python3.7/random.py'>"
      ]
     },
     "execution_count": 2,
     "metadata": {},
     "output_type": "execute_result"
    }
   ],
   "source": [
    "import importlib as imp\n",
    "\n",
    "# Reload numpy:\n",
    "imp.reload(np)\n",
    "\n",
    "# Reload random:\n",
    "imp.reload(random)"
   ]
  },
  {
   "cell_type": "markdown",
   "metadata": {},
   "source": [
    "### Progress bars"
   ]
  },
  {
   "cell_type": "markdown",
   "metadata": {},
   "source": [
    "To generate a progress bars, simply wrap your iterable in `tqdm()`:"
   ]
  },
  {
   "cell_type": "code",
   "execution_count": 3,
   "metadata": {},
   "outputs": [
    {
     "data": {
      "application/vnd.jupyter.widget-view+json": {
       "model_id": "bc4299887fce40919e33eda42e16c9cb",
       "version_major": 2,
       "version_minor": 0
      },
      "text/plain": [
       "HBox(children=(FloatProgress(value=0.0, description='My first progress bar', max=99.0, style=ProgressStyle(des…"
      ]
     },
     "metadata": {},
     "output_type": "display_data"
    },
    {
     "name": "stdout",
     "output_type": "stream",
     "text": [
      "\n"
     ]
    }
   ],
   "source": [
    "from tqdm.notebook import tqdm # Remove '.notebook' if used from \n",
    "                               # terminal instead of notebook\n",
    "import time\n",
    "\n",
    "for i in tqdm(range(1,100), 'My first progress bar'):\n",
    "    time.sleep(0.1)"
   ]
  },
  {
   "cell_type": "markdown",
   "metadata": {},
   "source": [
    "<br />\n",
    "&nbsp;\n",
    "<br />\n",
    "&nbsp;\n",
    "\n",
    "## Markdown tricks"
   ]
  },
  {
   "cell_type": "markdown",
   "metadata": {},
   "source": [
    "For a general guide on Markdown, see [this](https://github.com/adam-p/markdown-here/wiki/Markdown-Cheatsheet \"Open Markdown guide\")."
   ]
  },
  {
   "cell_type": "markdown",
   "metadata": {},
   "source": [
    "#### Vertical blank spaces:\n",
    "```markdown\n",
    "<br />\n",
    "&nbsp;```"
   ]
  },
  {
   "cell_type": "markdown",
   "metadata": {},
   "source": [
    "#### Inline code:\n",
    "\\`hello_world()\\` renders as `hello_world()`"
   ]
  },
  {
   "cell_type": "markdown",
   "metadata": {},
   "source": [
    "#### Centered code:\n",
    "```markdown\n",
    "```markdown\n",
    "hello_world()\n",
    "hello_again()``````\n",
    "\n",
    "renders as\n",
    "\n",
    "```markdown\n",
    "hello_world()\n",
    "hello_again()```\n",
    "\n",
    "while\n",
    "\n",
    "```markdown\n",
    "```python\n",
    "for i in range(0,N):\n",
    "print(i)``` ```\n",
    "\n",
    "renders as\n",
    "\n",
    "```python\n",
    "for i in range(0,N):\n",
    "    print(i)\n",
    "```"
   ]
  },
  {
   "cell_type": "markdown",
   "metadata": {},
   "source": [
    "<br />\n",
    "&nbsp;\n",
    "<br />\n",
    "&nbsp;\n",
    "<br />\n",
    "&nbsp;\n",
    "<br />\n",
    "&nbsp;"
   ]
  },
  {
   "cell_type": "markdown",
   "metadata": {},
   "source": [
    "<span style=\"color:blue\">Álvaro Gómez Iñesta - Wehner's Group @ QuTech, TU Delft. February 2021.</span>"
   ]
  }
 ],
 "metadata": {
  "kernelspec": {
   "display_name": "Python 3",
   "language": "python",
   "name": "python3"
  },
  "language_info": {
   "codemirror_mode": {
    "name": "ipython",
    "version": 3
   },
   "file_extension": ".py",
   "mimetype": "text/x-python",
   "name": "python",
   "nbconvert_exporter": "python",
   "pygments_lexer": "ipython3",
   "version": "3.7.3"
  }
 },
 "nbformat": 4,
 "nbformat_minor": 4
}
